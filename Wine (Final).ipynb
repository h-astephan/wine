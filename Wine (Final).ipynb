{
 "cells": [
  {
   "cell_type": "markdown",
   "metadata": {},
   "source": [
    "# Classification of Wine Reviews"
   ]
  },
  {
   "cell_type": "markdown",
   "metadata": {},
   "source": [
    "This project explores a data set consisting of 130,000 text-based wine reviews. Our goal is to classify a wine as \"above average\" or \"below average\" based on its text review. To that end, we will select and create a few features of the text. Then, we will use these features to train the Naive Bayes algorithm.\n",
    "\n",
    "This data has been sourced from Kaggle."
   ]
  },
  {
   "cell_type": "code",
   "execution_count": 1,
   "metadata": {},
   "outputs": [],
   "source": [
    "import pandas as pd\n",
    "import numpy as np\n",
    "import matplotlib.pyplot as plt\n",
    "from datetime import datetime\n",
    "from dateutil.parser import parse\n",
    "import seaborn as sns\n",
    "from scipy.stats import norm\n",
    "from sklearn.preprocessing import StandardScaler\n",
    "from scipy import stats\n",
    "import warnings\n",
    "import nltk\n",
    "from nltk.corpus import stopwords\n",
    "from nltk.stem.wordnet import WordNetLemmatizer\n",
    "from sklearn import preprocessing, decomposition, model_selection, metrics, pipeline\n",
    "from sklearn.feature_extraction.text import TfidfVectorizer, CountVectorizer\n",
    "from nltk.stem import PorterStemmer\n",
    "from textblob import TextBlob\n",
    "from textblob import Word\n",
    "import re\n",
    "warnings.filterwarnings('ignore')\n",
    "%matplotlib inline\n",
    "wine = pd.read_csv('wine.csv')\n",
    "wine = wine.drop(columns='Unnamed: 0')"
   ]
  },
  {
   "cell_type": "markdown",
   "metadata": {},
   "source": [
    "## Data Exploration"
   ]
  },
  {
   "cell_type": "markdown",
   "metadata": {},
   "source": [
    "In this section, we explore some of the data."
   ]
  },
  {
   "cell_type": "markdown",
   "metadata": {},
   "source": [
    "First, we will examine the ten most reviewed countries (with the respective number of reviews)."
   ]
  },
  {
   "cell_type": "code",
   "execution_count": 2,
   "metadata": {},
   "outputs": [
    {
     "data": {
      "text/html": [
       "<div>\n",
       "<style scoped>\n",
       "    .dataframe tbody tr th:only-of-type {\n",
       "        vertical-align: middle;\n",
       "    }\n",
       "\n",
       "    .dataframe tbody tr th {\n",
       "        vertical-align: top;\n",
       "    }\n",
       "\n",
       "    .dataframe thead th {\n",
       "        text-align: right;\n",
       "    }\n",
       "</style>\n",
       "<table border=\"1\" class=\"dataframe\">\n",
       "  <thead>\n",
       "    <tr style=\"text-align: right;\">\n",
       "      <th></th>\n",
       "      <th>country</th>\n",
       "      <th>description</th>\n",
       "    </tr>\n",
       "  </thead>\n",
       "  <tbody>\n",
       "    <tr>\n",
       "      <td>0</td>\n",
       "      <td>US</td>\n",
       "      <td>54504</td>\n",
       "    </tr>\n",
       "    <tr>\n",
       "      <td>1</td>\n",
       "      <td>France</td>\n",
       "      <td>22093</td>\n",
       "    </tr>\n",
       "    <tr>\n",
       "      <td>2</td>\n",
       "      <td>Italy</td>\n",
       "      <td>19540</td>\n",
       "    </tr>\n",
       "    <tr>\n",
       "      <td>3</td>\n",
       "      <td>Spain</td>\n",
       "      <td>6645</td>\n",
       "    </tr>\n",
       "    <tr>\n",
       "      <td>4</td>\n",
       "      <td>Portugal</td>\n",
       "      <td>5691</td>\n",
       "    </tr>\n",
       "    <tr>\n",
       "      <td>5</td>\n",
       "      <td>Chile</td>\n",
       "      <td>4472</td>\n",
       "    </tr>\n",
       "    <tr>\n",
       "      <td>6</td>\n",
       "      <td>Argentina</td>\n",
       "      <td>3800</td>\n",
       "    </tr>\n",
       "    <tr>\n",
       "      <td>7</td>\n",
       "      <td>Austria</td>\n",
       "      <td>3345</td>\n",
       "    </tr>\n",
       "    <tr>\n",
       "      <td>8</td>\n",
       "      <td>Australia</td>\n",
       "      <td>2329</td>\n",
       "    </tr>\n",
       "    <tr>\n",
       "      <td>9</td>\n",
       "      <td>Germany</td>\n",
       "      <td>2165</td>\n",
       "    </tr>\n",
       "  </tbody>\n",
       "</table>\n",
       "</div>"
      ],
      "text/plain": [
       "     country  description\n",
       "0         US        54504\n",
       "1     France        22093\n",
       "2      Italy        19540\n",
       "3      Spain         6645\n",
       "4   Portugal         5691\n",
       "5      Chile         4472\n",
       "6  Argentina         3800\n",
       "7    Austria         3345\n",
       "8  Australia         2329\n",
       "9    Germany         2165"
      ]
     },
     "execution_count": 2,
     "metadata": {},
     "output_type": "execute_result"
    }
   ],
   "source": [
    "countries=wine.groupby(['country']).count().reset_index()\n",
    "countries=countries.sort_values('description', ascending=False)\n",
    "countries=countries[['country', 'description']]\n",
    "countries.reset_index(drop=True, inplace=True)\n",
    "countries.head(10)"
   ]
  },
  {
   "cell_type": "markdown",
   "metadata": {},
   "source": [
    "Next, we observe the ten most common varieties (with respective number of reviews)."
   ]
  },
  {
   "cell_type": "code",
   "execution_count": 3,
   "metadata": {},
   "outputs": [
    {
     "data": {
      "text/html": [
       "<div>\n",
       "<style scoped>\n",
       "    .dataframe tbody tr th:only-of-type {\n",
       "        vertical-align: middle;\n",
       "    }\n",
       "\n",
       "    .dataframe tbody tr th {\n",
       "        vertical-align: top;\n",
       "    }\n",
       "\n",
       "    .dataframe thead th {\n",
       "        text-align: right;\n",
       "    }\n",
       "</style>\n",
       "<table border=\"1\" class=\"dataframe\">\n",
       "  <thead>\n",
       "    <tr style=\"text-align: right;\">\n",
       "      <th></th>\n",
       "      <th>variety</th>\n",
       "      <th>description</th>\n",
       "    </tr>\n",
       "  </thead>\n",
       "  <tbody>\n",
       "    <tr>\n",
       "      <td>0</td>\n",
       "      <td>Pinot Noir</td>\n",
       "      <td>13272</td>\n",
       "    </tr>\n",
       "    <tr>\n",
       "      <td>1</td>\n",
       "      <td>Chardonnay</td>\n",
       "      <td>11753</td>\n",
       "    </tr>\n",
       "    <tr>\n",
       "      <td>2</td>\n",
       "      <td>Cabernet Sauvignon</td>\n",
       "      <td>9472</td>\n",
       "    </tr>\n",
       "    <tr>\n",
       "      <td>3</td>\n",
       "      <td>Red Blend</td>\n",
       "      <td>8946</td>\n",
       "    </tr>\n",
       "    <tr>\n",
       "      <td>4</td>\n",
       "      <td>Bordeaux-style Red Blend</td>\n",
       "      <td>6915</td>\n",
       "    </tr>\n",
       "    <tr>\n",
       "      <td>5</td>\n",
       "      <td>Riesling</td>\n",
       "      <td>5189</td>\n",
       "    </tr>\n",
       "    <tr>\n",
       "      <td>6</td>\n",
       "      <td>Sauvignon Blanc</td>\n",
       "      <td>4967</td>\n",
       "    </tr>\n",
       "    <tr>\n",
       "      <td>7</td>\n",
       "      <td>Syrah</td>\n",
       "      <td>4142</td>\n",
       "    </tr>\n",
       "    <tr>\n",
       "      <td>8</td>\n",
       "      <td>Rosé</td>\n",
       "      <td>3564</td>\n",
       "    </tr>\n",
       "    <tr>\n",
       "      <td>9</td>\n",
       "      <td>Merlot</td>\n",
       "      <td>3102</td>\n",
       "    </tr>\n",
       "  </tbody>\n",
       "</table>\n",
       "</div>"
      ],
      "text/plain": [
       "                    variety  description\n",
       "0                Pinot Noir        13272\n",
       "1                Chardonnay        11753\n",
       "2        Cabernet Sauvignon         9472\n",
       "3                 Red Blend         8946\n",
       "4  Bordeaux-style Red Blend         6915\n",
       "5                  Riesling         5189\n",
       "6           Sauvignon Blanc         4967\n",
       "7                     Syrah         4142\n",
       "8                      Rosé         3564\n",
       "9                    Merlot         3102"
      ]
     },
     "execution_count": 3,
     "metadata": {},
     "output_type": "execute_result"
    }
   ],
   "source": [
    "varieties=wine.groupby(['variety']).count().reset_index()\n",
    "varieties=varieties.sort_values('description', ascending=False)\n",
    "varieties=varieties[['variety', 'description']]\n",
    "varieties.reset_index(drop=True, inplace=True)\n",
    "varieties.head(10)"
   ]
  },
  {
   "cell_type": "markdown",
   "metadata": {},
   "source": [
    "We are also interested in the distribution of the ratings."
   ]
  },
  {
   "cell_type": "code",
   "execution_count": 4,
   "metadata": {},
   "outputs": [
    {
     "data": {
      "image/png": "[encoded data removed]",
      "text/plain": [
       "<Figure size 1008x288 with 1 Axes>"
      ]
     },
     "metadata": {
      "needs_background": "light"
     },
     "output_type": "display_data"
    }
   ],
   "source": [
    "plt.figure(figsize=(14,4))\n",
    "sns.countplot(x='points', data=wine).set_title(\"Distribution of Ratings\")\n",
    "plt.show()"
   ]
  },
  {
   "cell_type": "markdown",
   "metadata": {},
   "source": [
    "Although the data consists of several reviews, there are only a handful of critics. Here, we provide the names of critics, together with the number of reviews and the average score for each critic."
   ]
  },
  {
   "cell_type": "code",
   "execution_count": 5,
   "metadata": {},
   "outputs": [
    {
     "data": {
      "text/html": [
       "<div>\n",
       "<style scoped>\n",
       "    .dataframe tbody tr th:only-of-type {\n",
       "        vertical-align: middle;\n",
       "    }\n",
       "\n",
       "    .dataframe tbody tr th {\n",
       "        vertical-align: top;\n",
       "    }\n",
       "\n",
       "    .dataframe thead th {\n",
       "        text-align: right;\n",
       "    }\n",
       "</style>\n",
       "<table border=\"1\" class=\"dataframe\">\n",
       "  <thead>\n",
       "    <tr style=\"text-align: right;\">\n",
       "      <th></th>\n",
       "      <th>name of critic</th>\n",
       "      <th>number of reviews</th>\n",
       "      <th>average points</th>\n",
       "    </tr>\n",
       "  </thead>\n",
       "  <tbody>\n",
       "    <tr>\n",
       "      <td>0</td>\n",
       "      <td>Alexander Peartree</td>\n",
       "      <td>415</td>\n",
       "      <td>85.50</td>\n",
       "    </tr>\n",
       "    <tr>\n",
       "      <td>1</td>\n",
       "      <td>Anna Lee C. Iijima</td>\n",
       "      <td>4415</td>\n",
       "      <td>89.00</td>\n",
       "    </tr>\n",
       "    <tr>\n",
       "      <td>2</td>\n",
       "      <td>Anne Krebiehl MW</td>\n",
       "      <td>3685</td>\n",
       "      <td>88.94</td>\n",
       "    </tr>\n",
       "    <tr>\n",
       "      <td>3</td>\n",
       "      <td>Carrie Dykes</td>\n",
       "      <td>139</td>\n",
       "      <td>86.09</td>\n",
       "    </tr>\n",
       "    <tr>\n",
       "      <td>4</td>\n",
       "      <td>Christina Pickard</td>\n",
       "      <td>6</td>\n",
       "      <td>87.75</td>\n",
       "    </tr>\n",
       "    <tr>\n",
       "      <td>5</td>\n",
       "      <td>Fiona Adams</td>\n",
       "      <td>27</td>\n",
       "      <td>86.86</td>\n",
       "    </tr>\n",
       "    <tr>\n",
       "      <td>6</td>\n",
       "      <td>Jeff Jenssen</td>\n",
       "      <td>491</td>\n",
       "      <td>89.50</td>\n",
       "    </tr>\n",
       "    <tr>\n",
       "      <td>7</td>\n",
       "      <td>Jim Gordon</td>\n",
       "      <td>4177</td>\n",
       "      <td>88.50</td>\n",
       "    </tr>\n",
       "    <tr>\n",
       "      <td>8</td>\n",
       "      <td>Joe Czerwinski</td>\n",
       "      <td>5147</td>\n",
       "      <td>90.00</td>\n",
       "    </tr>\n",
       "    <tr>\n",
       "      <td>9</td>\n",
       "      <td>Kerin O’Keefe</td>\n",
       "      <td>10776</td>\n",
       "      <td>90.00</td>\n",
       "    </tr>\n",
       "    <tr>\n",
       "      <td>10</td>\n",
       "      <td>Lauren Buzzeo</td>\n",
       "      <td>1835</td>\n",
       "      <td>88.00</td>\n",
       "    </tr>\n",
       "    <tr>\n",
       "      <td>11</td>\n",
       "      <td>Matt Kettmann</td>\n",
       "      <td>6332</td>\n",
       "      <td>89.00</td>\n",
       "    </tr>\n",
       "    <tr>\n",
       "      <td>12</td>\n",
       "      <td>Michael Schachner</td>\n",
       "      <td>15134</td>\n",
       "      <td>89.00</td>\n",
       "    </tr>\n",
       "    <tr>\n",
       "      <td>13</td>\n",
       "      <td>Mike DeSimone</td>\n",
       "      <td>514</td>\n",
       "      <td>88.00</td>\n",
       "    </tr>\n",
       "    <tr>\n",
       "      <td>14</td>\n",
       "      <td>Paul Gregutt</td>\n",
       "      <td>9532</td>\n",
       "      <td>90.00</td>\n",
       "    </tr>\n",
       "    <tr>\n",
       "      <td>15</td>\n",
       "      <td>Roger Voss</td>\n",
       "      <td>25514</td>\n",
       "      <td>90.00</td>\n",
       "    </tr>\n",
       "    <tr>\n",
       "      <td>16</td>\n",
       "      <td>Sean P. Sullivan</td>\n",
       "      <td>4966</td>\n",
       "      <td>88.50</td>\n",
       "    </tr>\n",
       "    <tr>\n",
       "      <td>17</td>\n",
       "      <td>Susan Kostrzewa</td>\n",
       "      <td>1085</td>\n",
       "      <td>87.00</td>\n",
       "    </tr>\n",
       "    <tr>\n",
       "      <td>18</td>\n",
       "      <td>Virginie Boone</td>\n",
       "      <td>9537</td>\n",
       "      <td>89.50</td>\n",
       "    </tr>\n",
       "  </tbody>\n",
       "</table>\n",
       "</div>"
      ],
      "text/plain": [
       "        name of critic  number of reviews  average points\n",
       "0   Alexander Peartree                415           85.50\n",
       "1   Anna Lee C. Iijima               4415           89.00\n",
       "2     Anne Krebiehl MW               3685           88.94\n",
       "3         Carrie Dykes                139           86.09\n",
       "4    Christina Pickard                  6           87.75\n",
       "5          Fiona Adams                 27           86.86\n",
       "6         Jeff Jenssen                491           89.50\n",
       "7           Jim Gordon               4177           88.50\n",
       "8       Joe Czerwinski               5147           90.00\n",
       "9        Kerin O’Keefe              10776           90.00\n",
       "10       Lauren Buzzeo               1835           88.00\n",
       "11       Matt Kettmann               6332           89.00\n",
       "12   Michael Schachner              15134           89.00\n",
       "13       Mike DeSimone                514           88.00\n",
       "14        Paul Gregutt               9532           90.00\n",
       "15          Roger Voss              25514           90.00\n",
       "16    Sean P. Sullivan               4966           88.50\n",
       "17     Susan Kostrzewa               1085           87.00\n",
       "18      Virginie Boone               9537           89.50"
      ]
     },
     "execution_count": 5,
     "metadata": {},
     "output_type": "execute_result"
    }
   ],
   "source": [
    "critic=pd.DataFrame(wine.groupby(['taster_name', 'points'], as_index=False).mean().groupby('taster_name')['points'].mean())\n",
    "critic.rename(columns={'points':'average points'}, inplace=True)\n",
    "taster=wine.groupby(['taster_name']).count().reset_index()\n",
    "taster=taster.sort_values('taster_name', ascending=True)\n",
    "taster=taster[['taster_name', 'description']]\n",
    "taster.rename(columns={'description':'number of reviews'}, inplace=True)\n",
    "taster.rename(columns={'taster_name':'name of critic'}, inplace=True)\n",
    "avg_n_critic=pd.concat([critic.reset_index(drop=1), taster.reset_index(drop=1).add_suffix('_2')], axis=1).fillna('')\n",
    "avg_n_critic.rename(columns={'taster_name_2':'name'}, inplace=True)\n",
    "avg_n_critic.rename(columns={'number of reviews_2':'number of reviews'}, inplace=True)\n",
    "avg_n_critic.rename(columns={'name of critic_2':'name of critic'}, inplace=True)\n",
    "columns_titles = [\"name of critic\",\"number of reviews\", \"average points\"]\n",
    "avg_n_critic=avg_n_critic.reindex(columns=columns_titles)\n",
    "avg_n_critic['average points']=avg_n_critic['average points'].round(decimals=2)\n",
    "avg_n_critic.head(20)"
   ]
  },
  {
   "cell_type": "markdown",
   "metadata": {},
   "source": [
    "Is there a relationship between the number of reviews & the average score?"
   ]
  },
  {
   "cell_type": "code",
   "execution_count": 6,
   "metadata": {},
   "outputs": [
    {
     "data": {
      "text/plain": [
       "Text(0.5, 1.0, 'Number of Reviews & Average Score')"
      ]
     },
     "execution_count": 6,
     "metadata": {},
     "output_type": "execute_result"
    },
    {
     "data": {
      "image/png": "[encoded data removed]",
      "text/plain": [
       "<Figure size 720x360 with 1 Axes>"
      ]
     },
     "metadata": {
      "needs_background": "light"
     },
     "output_type": "display_data"
    }
   ],
   "source": [
    "plt.figure(figsize=(10,5))\n",
    "sns.regplot(x=\"number of reviews\", y=\"average points\", data=avg_n_critic).set_title(\"Number of Reviews & Average Score\")"
   ]
  },
  {
   "cell_type": "markdown",
   "metadata": {},
   "source": [
    "There appears to be a moderate positive correlation. It appears that there is a lot of variance for those who do not review that many wines. We verify the correlation coefficient below."
   ]
  },
  {
   "cell_type": "code",
   "execution_count": 34,
   "metadata": {},
   "outputs": [
    {
     "name": "stdout",
     "output_type": "stream",
     "text": [
      "0.6254155732838154\n"
     ]
    }
   ],
   "source": [
    "from scipy.stats import pearsonr\n",
    "corr, _ = pearsonr(avg_n_critic['average points'], avg_n_critic['number of reviews'])\n",
    "print(corr)"
   ]
  },
  {
   "cell_type": "markdown",
   "metadata": {},
   "source": [
    "We also observe some general statistics about the points awarded for each wine."
   ]
  },
  {
   "cell_type": "code",
   "execution_count": 7,
   "metadata": {},
   "outputs": [
    {
     "data": {
      "text/plain": [
       "count    129971.000000\n",
       "mean         88.447138\n",
       "std           3.039730\n",
       "min          80.000000\n",
       "25%          86.000000\n",
       "50%          88.000000\n",
       "75%          91.000000\n",
       "max         100.000000\n",
       "Name: points, dtype: float64"
      ]
     },
     "execution_count": 7,
     "metadata": {},
     "output_type": "execute_result"
    }
   ],
   "source": [
    "#Average rating, and other statistics for the points awarded for each wine\n",
    "wine['points'].describe()"
   ]
  },
  {
   "cell_type": "markdown",
   "metadata": {},
   "source": [
    "The average score is 88.45, with a range of 80 and 100 points."
   ]
  },
  {
   "cell_type": "markdown",
   "metadata": {},
   "source": [
    "## Pre-processing of Data"
   ]
  },
  {
   "cell_type": "markdown",
   "metadata": {},
   "source": [
    "In this section, we clean the text of the reviews, e.g. removing stop words, puncutation, and numerical values."
   ]
  },
  {
   "cell_type": "code",
   "execution_count": 8,
   "metadata": {},
   "outputs": [],
   "source": [
    "wine['description'] =wine['description'].apply(lambda x: \" \".join(x.lower() for x in x.split()))\n",
    "wine['description'] = wine['description'].str.replace('[^\\w\\s]','')\n",
    "stop = stopwords.words('english')\n",
    "wine['description'] = wine['description'].apply(lambda x: \" \".join(x for x in x.split() if x not in stop))\n",
    "freq = pd.Series(' '.join(wine['description']).split()).value_counts()[:10]\n",
    "freq = list(freq.index)\n",
    "wine['description'] = wine['description'].apply(lambda x: \" \".join(x for x in x.split() if x not in freq))\n",
    "freq = pd.Series(' '.join(wine['description']).split()).value_counts()[-10:]\n",
    "freq = list(freq.index)\n",
    "wine['description'] = wine['description'].apply(lambda x: \" \".join(x for x in x.split() if x not in freq))\n",
    "st = PorterStemmer()\n",
    "wine['description'][:5].apply(lambda x: \" \".join([st.stem(word) for word in x.split()]))\n",
    "wine['description'] = wine['description'].apply(lambda x: \" \".join([Word(word).lemmatize() for word in x.split()]))\n",
    "wine['description']= wine['description'].str.replace('\\d+', '')"
   ]
  },
  {
   "cell_type": "markdown",
   "metadata": {},
   "source": [
    "## Feature Selection and Creation"
   ]
  },
  {
   "cell_type": "markdown",
   "metadata": {},
   "source": [
    "Now that we have processed the text of the reviews, we will create some features related to the text. "
   ]
  },
  {
   "cell_type": "markdown",
   "metadata": {},
   "source": [
    "The first feature that we are interested in is the word count of the review. We believe that the length of the review relates to the quality of the wine, as a critic may not be inclined to write a lengthy negative review.\n",
    "\n",
    "From there, we will classify wines as \"above average\" if the score is above 88, and separate the data accordingly. We will study the 1-grams of these two groups."
   ]
  },
  {
   "cell_type": "code",
   "execution_count": 9,
   "metadata": {},
   "outputs": [],
   "source": [
    "#Word count of the review\n",
    "wine['count'] = wine['description'].str.count(' ') + 1"
   ]
  },
  {
   "cell_type": "code",
   "execution_count": 10,
   "metadata": {},
   "outputs": [
    {
     "data": {
      "image/png": "[encoded data removed]",
      "text/plain": [
       "<Figure size 1008x288 with 1 Axes>"
      ]
     },
     "metadata": {
      "needs_background": "light"
     },
     "output_type": "display_data"
    }
   ],
   "source": [
    "#Distribution of word counts\n",
    "plt.figure(figsize=(14,4))\n",
    "sns.countplot(x='count', data=wine).set_title(\"Distribution of Word Count\")\n",
    "plt.show()"
   ]
  },
  {
   "cell_type": "code",
   "execution_count": 11,
   "metadata": {},
   "outputs": [
    {
     "data": {
      "text/plain": [
       "count    129971.000000\n",
       "mean         21.780720\n",
       "std           6.628436\n",
       "min           2.000000\n",
       "25%          17.000000\n",
       "50%          21.000000\n",
       "75%          26.000000\n",
       "max          72.000000\n",
       "Name: count, dtype: float64"
      ]
     },
     "execution_count": 11,
     "metadata": {},
     "output_type": "execute_result"
    }
   ],
   "source": [
    "wine['count'].describe()"
   ]
  },
  {
   "cell_type": "markdown",
   "metadata": {},
   "source": [
    "On average, there are approximately 22 words in a given review, after removing stop words and numerical values."
   ]
  },
  {
   "cell_type": "markdown",
   "metadata": {},
   "source": [
    "The data has a strong peak in the center, which we verify by calculating the kurtosis."
   ]
  },
  {
   "cell_type": "code",
   "execution_count": 12,
   "metadata": {},
   "outputs": [
    {
     "data": {
      "text/plain": [
       "0.9085559605173477"
      ]
     },
     "execution_count": 12,
     "metadata": {},
     "output_type": "execute_result"
    }
   ],
   "source": [
    "from scipy.stats import kurtosis\n",
    "kurtosis(wine['count'], axis=0, fisher=True, bias=True)"
   ]
  },
  {
   "cell_type": "markdown",
   "metadata": {},
   "source": [
    "Using the mean value of 88.45 as a benchmark, we will introduce the parameter for classification. If a wine has a score greater than 88, it is considered \"above average,\" and will be assigned a 1 in the data frame. Otherwise, the wine is assigned a 0. Since the wines only have integer-valued scores, we do not have to worry about the precision of our split."
   ]
  },
  {
   "cell_type": "code",
   "execution_count": 13,
   "metadata": {},
   "outputs": [],
   "source": [
    "#Add \"above average\" feature based on the mean score of 88\n",
    "def g(wine):\n",
    "    if wine['points'] > 88:\n",
    "        val = 1\n",
    "    else:\n",
    "        val = 0\n",
    "    return val\n",
    "wine['above_avg'] = wine.apply(g, axis=1)"
   ]
  },
  {
   "cell_type": "markdown",
   "metadata": {},
   "source": [
    "At this point, we will split the data into two smaller sets depending on the value in the \"above average\" column. Our goal is to study the 1-grams of each data set. Are there common words for really good wines? What about mediocre wines? Are there common words for all wines? \n",
    "\n",
    "The use of 1-grams will allow us to visualize any possible discrepancies between the two classes of wines. We highlight one limitation in the removal of stop words: \"not\" is considered a stop word, and it is possible that some less-than-positive reviews use \"not.\" "
   ]
  },
  {
   "cell_type": "code",
   "execution_count": 14,
   "metadata": {},
   "outputs": [
    {
     "data": {
      "image/png": "[encoded data removed]",
      "text/plain": [
       "<Figure size 1152x2016 with 1 Axes>"
      ]
     },
     "metadata": {
      "needs_background": "light"
     },
     "output_type": "display_data"
    },
    {
     "data": {
      "image/png": "[encoded data removed]",
      "text/plain": [
       "<Figure size 1152x2016 with 1 Axes>"
      ]
     },
     "metadata": {
      "needs_background": "light"
     },
     "output_type": "display_data"
    }
   ],
   "source": [
    "#Study 1-grams\n",
    "\n",
    "import matplotlib.gridspec as gridspec\n",
    "\n",
    "wine_top=wine[wine['above_avg']==1]\n",
    "wine_low=wine[wine['above_avg']==0]\n",
    "\n",
    "grid = gridspec.GridSpec(5, 2)\n",
    "plt.figure(figsize=(16,7*4))\n",
    "\n",
    "for n, cat in enumerate(wine_top['variety'].index[:1]):\n",
    "    \n",
    "    ax = plt.subplot(grid[n])   \n",
    "    vectorizer = TfidfVectorizer(ngram_range = (1, 2), min_df=5, \n",
    "                                 stop_words='english',\n",
    "                                 max_df=.5) \n",
    "    \n",
    "    X2 = vectorizer.fit_transform(wine_top['description']) \n",
    "    features = (vectorizer.get_feature_names()) \n",
    "    scores = (X2.toarray()) \n",
    "    \n",
    "    # Getting top ranking features \n",
    "    sums = X2.sum(axis = 0) \n",
    "    data1 = [] \n",
    "    \n",
    "    for col, term in enumerate(features): \n",
    "        data1.append( (term, sums[0,col] )) \n",
    "\n",
    "    ranking = pd.DataFrame(data1, columns = ['term','rank']) \n",
    "    words = (ranking.sort_values('rank', ascending = False))[:60]\n",
    "    words_graph = (ranking.sort_values('rank', ascending = False))[:20]\n",
    "\n",
    "    sns.barplot(x='term', y='rank', data=words_graph, ax=ax, \n",
    "                color='pink', orient='v')\n",
    "    ax.set_title(\"1-grams of above-average wines\", fontsize=19)\n",
    "    ax.set_xticklabels(ax.get_xticklabels(),rotation=90)\n",
    "    ax.set_ylabel(' ')\n",
    "    ax.set_xlabel(\" \")\n",
    "\n",
    "plt.subplots_adjust(top = 0.95, hspace=.9, wspace=.1)\n",
    "\n",
    "plt.show()\n",
    "\n",
    "#Study n-grams\n",
    "\n",
    "grid = gridspec.GridSpec(5, 2)\n",
    "plt.figure(figsize=(16,7*4))\n",
    "\n",
    "for n, cat in enumerate(wine_low['variety'].index[:1]):\n",
    "    \n",
    "    ax = plt.subplot(grid[n])   \n",
    "    vectorizer = TfidfVectorizer(ngram_range = (1, 2), min_df=5, \n",
    "                                 stop_words='english',\n",
    "                                 max_df=.5) \n",
    "    \n",
    "    X2 = vectorizer.fit_transform(wine_low['description']) \n",
    "    features = (vectorizer.get_feature_names()) \n",
    "    scores = (X2.toarray()) \n",
    "    \n",
    "    # Getting top ranking features \n",
    "    sums = X2.sum(axis = 0) \n",
    "    data1 = [] \n",
    "    \n",
    "    for col, term in enumerate(features): \n",
    "        data1.append( (term, sums[0,col] )) \n",
    "\n",
    "    ranking = pd.DataFrame(data1, columns = ['term','rank']) \n",
    "    words_2 = (ranking.sort_values('rank', ascending = False))[:60]\n",
    "    words_2_graph = (ranking.sort_values('rank', ascending = False))[:20]\n",
    "\n",
    "    sns.barplot(x='term', y='rank', data=words_2_graph, ax=ax, \n",
    "                color='blue', orient='v')\n",
    "    ax.set_title(\"1-grams of below-average wines\", fontsize=19)\n",
    "    ax.set_xticklabels(ax.get_xticklabels(),rotation=90)\n",
    "    ax.set_ylabel(' ')\n",
    "    ax.set_xlabel(\" \")\n",
    "\n",
    "plt.subplots_adjust(top = 0.95, hspace=.9, wspace=.1)\n",
    "\n",
    "plt.show()"
   ]
  },
  {
   "cell_type": "markdown",
   "metadata": {},
   "source": [
    "We see that some of the 1-grams appear in both data sets, e.g. \"ripe.\" We take the symmetric difference of the 1-grams to truly distinguish those of the above-average wines from those of the below-average wines. From there, we add another feature to the data set. If a wine review contains one of of the \"top traits,\" it receives a \"True\"  in that column of the data set. Similarly, if a wine review contains one of the \"bottom traits,\" it receives a \"True\" in that column of the data set. \n",
    "\n",
    "Note that it is possible that some reviews may not contain any of the top traits nor any of the bottom ones, as the 1-grams do not exhaust all of the reviews. Therefore, there may be some wines that have a \"False\" in both of these columns. We also note that some below-average wines contain some of the top traits simply because those top traits do not appear as 1-grams of below-average wines. We will address this obstruction shortly.\n",
    "\n",
    "Finally, the graphs above picture the top twenty 1-grams, but our stored list consists of the top sixty 1-grams. This will be useful for building a more robust feature."
   ]
  },
  {
   "cell_type": "code",
   "execution_count": 15,
   "metadata": {},
   "outputs": [
    {
     "name": "stdout",
     "output_type": "stream",
     "text": [
      "['aging', 'delicious', 'wood', 'structured', 'structure', 'fine', 'complex', 'balance', 'year', 'mineral', 'age', 'dense', 'firm', 'vineyard', 'balanced', 'chocolate', 'long', 'concentrated']\n",
      "['open', 'flavor', 'feel', 'bit', 'tannic', 'herbal', 'simple', 'pinot', 'slightly', 'clean', 'taste', 'tart', 'ready', 'sauvignon', 'like', 'spicy', 'fruity', 'green']\n"
     ]
    }
   ],
   "source": [
    "#Create two lists of top grams\n",
    "#Find symmetric difference\n",
    "set1=set(words['term'][0:60])\n",
    "set2=set(words_2['term'][0:60]) \n",
    "\n",
    "top_traits=list(set1-set2)\n",
    "\n",
    "bottom_traits=list(set2-set1)\n",
    "\n",
    "print(top_traits)\n",
    "\n",
    "print(bottom_traits)"
   ]
  },
  {
   "cell_type": "markdown",
   "metadata": {},
   "source": [
    "By taking the symmetric difference, we see, for example, that above-average wines tend to be complex and delicious, while below-average wines tend to be simple and tart. As the last step of this feature creation, we record the appearances of these words in the data frame."
   ]
  },
  {
   "cell_type": "code",
   "execution_count": 16,
   "metadata": {},
   "outputs": [],
   "source": [
    "#Top and bottom traits feature\n",
    "tt_pattern = '|'.join(top_traits)\n",
    "\n",
    "wine['top traits']=wine.description.str.contains(tt_pattern).to_frame()\n",
    "\n",
    "bt_pattern = '|'.join(bottom_traits)\n",
    "\n",
    "wine['bottom traits']=wine.description.str.contains(bt_pattern).to_frame()"
   ]
  },
  {
   "cell_type": "markdown",
   "metadata": {},
   "source": [
    "We now examine the aforementioned issue about top traits appearing in below-average wines. For example, \"firm\" is not a 1-gram for below-average wines, but some below-average wines contain the word \"firm\" in their description. We will visualize the prevalence of this obstruction. "
   ]
  },
  {
   "cell_type": "code",
   "execution_count": 17,
   "metadata": {},
   "outputs": [
    {
     "data": {
      "text/plain": [
       "Text(0.5, 1.0, 'Below-average Wines with Top Traits')"
      ]
     },
     "execution_count": 17,
     "metadata": {},
     "output_type": "execute_result"
    },
    {
     "data": {
      "image/png": "[encoded data removed]",
      "text/plain": [
       "<Figure size 1008x288 with 1 Axes>"
      ]
     },
     "metadata": {
      "needs_background": "light"
     },
     "output_type": "display_data"
    }
   ],
   "source": [
    "wine_top=wine[wine['above_avg']==1]\n",
    "wine_low=wine[wine['above_avg']==0]\n",
    "traits_wine=wine[wine['bottom traits']==False]\n",
    "traits_wine=traits_wine[traits_wine['top traits']==True]\n",
    "traits_wine=traits_wine[traits_wine['points']<89]\n",
    "\n",
    "#Distribution of below-average wines with top traits\n",
    "plt.figure(figsize=(14,4))\n",
    "sns.countplot(x='points', data=traits_wine).set_title(\"Below-average Wines with Top Traits\")"
   ]
  },
  {
   "cell_type": "markdown",
   "metadata": {},
   "source": [
    "A similar situtation occurs in the collection of above-average wines. We provide visual evidence for this."
   ]
  },
  {
   "cell_type": "code",
   "execution_count": 18,
   "metadata": {},
   "outputs": [
    {
     "data": {
      "text/plain": [
       "Text(0.5, 1.0, 'Above-average Wines with Bottom Traits')"
      ]
     },
     "execution_count": 18,
     "metadata": {},
     "output_type": "execute_result"
    },
    {
     "data": {
      "image/png": "[encoded data removed]",
      "text/plain": [
       "<Figure size 1008x288 with 1 Axes>"
      ]
     },
     "metadata": {
      "needs_background": "light"
     },
     "output_type": "display_data"
    }
   ],
   "source": [
    "other_wine=wine[wine['bottom traits']==True]\n",
    "other_wine=other_wine[other_wine['top traits']==False]\n",
    "other_wine=other_wine[other_wine['points']>88]\n",
    "\n",
    "#Distribution of below-average wines with top traits\n",
    "plt.figure(figsize=(14,4))\n",
    "sns.countplot(x='points', data=other_wine).set_title(\"Above-average Wines with Bottom Traits\")"
   ]
  },
  {
   "cell_type": "markdown",
   "metadata": {},
   "source": [
    "In practice, the majority of \"misrepresented\" wines per the 1-gram traits are those clustered around the mean. We add more one nuance to this feature. Rather than a binary classification of top versus bottom traits, we can count the occurrences of each trait within a given review. In particular, we add two new columns to the data frame: a count of the top traits, and a count of the bottom traits, in order to take into account that some wines may have both. "
   ]
  },
  {
   "cell_type": "code",
   "execution_count": 25,
   "metadata": {},
   "outputs": [],
   "source": [
    "def create_occurences(df):\n",
    "    top_traits_list = []\n",
    "    bottom_traits_list = []\n",
    "    for text in df['description']:\n",
    "        top_traits_words = 0\n",
    "        bottom_traits_words = 0\n",
    "        for word in text.split(' '):\n",
    "            if word in top_traits:\n",
    "                top_traits_words += 1\n",
    "            elif word in bottom_traits:\n",
    "                bottom_traits_words += 1\n",
    "        top_traits_list.append(top_traits_words)\n",
    "        bottom_traits_list.append(bottom_traits_words)\n",
    "    df['top_traits_words'] = pd.Series(top_traits_list, index=df.index)\n",
    "    df['bottom_traits_words'] = pd.Series(bottom_traits_list, index=df.index)\n",
    "\n",
    "create_occurences(wine)"
   ]
  },
  {
   "cell_type": "markdown",
   "metadata": {},
   "source": [
    "## Naive Bayes Algorithm"
   ]
  },
  {
   "cell_type": "markdown",
   "metadata": {},
   "source": [
    "We will split the data into training and testing sets. We choose the (Gaussian) Naive Bayes algorithm as it is quite popular for text classification. We train with the features from the previous section: the word count, the top traits, and the bottom traits. Using this algorithm, our goal is to use these features to classify a wine as \"above average\" or not. "
   ]
  },
  {
   "cell_type": "code",
   "execution_count": 20,
   "metadata": {},
   "outputs": [],
   "source": [
    "#Split data into training and testing sets\n",
    "from sklearn.model_selection import train_test_split\n",
    "X_train, X_test = train_test_split(wine, test_size=0.5, random_state=0)"
   ]
  },
  {
   "cell_type": "markdown",
   "metadata": {},
   "source": [
    "Here, we will use the binary feature of top or bottom traits."
   ]
  },
  {
   "cell_type": "code",
   "execution_count": 28,
   "metadata": {},
   "outputs": [
    {
     "name": "stdout",
     "output_type": "stream",
     "text": [
      "Number of mislabeled points out of a total 64986 points : 18841, performance 71.01%\n"
     ]
    }
   ],
   "source": [
    "from sklearn.naive_bayes import GaussianNB, BernoulliNB\n",
    "gnb = GaussianNB()\n",
    "used_features = [\"count\", \"top traits\", \"bottom traits\"]\n",
    "# Train classifier\n",
    "gnb.fit(\n",
    "    X_train[used_features].values,\n",
    "    X_train['above_avg']\n",
    ")\n",
    "y_pred = gnb.predict(X_test[used_features])\n",
    "\n",
    "# Print results\n",
    "print(\"Number of mislabeled points out of a total {} points : {}, performance {:05.2f}%\"\n",
    "      .format(\n",
    "          X_test.shape[0],\n",
    "          (X_test['above_avg'] != y_pred).sum(),\n",
    "          100*(1-(X_test['above_avg'] != y_pred).sum()/X_test.shape[0])\n",
    "))"
   ]
  },
  {
   "cell_type": "markdown",
   "metadata": {},
   "source": [
    "Here, we will use the counts of the top and bottom traits."
   ]
  },
  {
   "cell_type": "code",
   "execution_count": 29,
   "metadata": {},
   "outputs": [
    {
     "data": {
      "text/plain": [
       "72.27556704520973"
      ]
     },
     "execution_count": 29,
     "metadata": {},
     "output_type": "execute_result"
    }
   ],
   "source": [
    "used_features_2 = [\"count\", \"top_traits_words\", \"bottom_traits_words\"]\n",
    "x=wine[used_features_2].values\n",
    "y=wine['above_avg']\n",
    "x_train, x_test, y_train, y_test=train_test_split(x, y, test_size=0.5, random_state=0)\n",
    "model= GaussianNB()\n",
    "model.fit(x_train, y_train)\n",
    "y_pred=model.predict(x_test)\n",
    "y_pred\n",
    "from sklearn.metrics import accuracy_score\n",
    "accuracy=accuracy_score(y_test, y_pred)*100\n",
    "accuracy"
   ]
  },
  {
   "cell_type": "markdown",
   "metadata": {},
   "source": [
    "There is some improvement, though not a significant one. \n",
    "\n",
    "Finally, we include the confusion matrix."
   ]
  },
  {
   "cell_type": "code",
   "execution_count": 30,
   "metadata": {},
   "outputs": [
    {
     "data": {
      "image/png": "[encoded data removed]",
      "text/plain": [
       "<Figure size 396x288 with 2 Axes>"
      ]
     },
     "metadata": {
      "needs_background": "light"
     },
     "output_type": "display_data"
    }
   ],
   "source": [
    "#Add confusion matrix.\n",
    "from sklearn.metrics import confusion_matrix\n",
    "cm=confusion_matrix(y_test, y_pred)\n",
    "\n",
    "# Transform to df for easier plotting\n",
    "cm_df = pd.DataFrame(cm)\n",
    "plt.figure(figsize=(5.5,4))\n",
    "sns.heatmap(cm_df)\n",
    "plt.ylabel('True label')\n",
    "plt.xlabel('Predicted label')\n",
    "plt.show()\n"
   ]
  },
  {
   "cell_type": "markdown",
   "metadata": {},
   "source": [
    "## Concluding Thoughts"
   ]
  },
  {
   "cell_type": "markdown",
   "metadata": {},
   "source": [
    "Naive Bayes appears to be a decent algorithm for text classification. There is room for improvement, possibly by adding more features or replacing some of the previous features with different ones. \n",
    "\n",
    "### Other features?\n",
    "Are n-grams of particular value? Though the analysis was not included, the answer turned out to be \"not really.\" In particular, we also explored the 2-grams of the separated data sets. However, when we added this feature to the algorithm, there was no noticeable improvement. The 2-grams are not frequent enough in the way that the 1-grams were.\n",
    "\n",
    "One potential feature is to cluster the wines whose centroids consist of words (in terms of sentiment, or more related to wine technicalities). For example, \"complex\" wines tend to fare better, but complexity in terms of wine is multifaceted. At the moment, we do not know a metric that would be reasonable to implement for this kind of feature. We could possibly try and build a graph that connects \"complex\" to other descriptors of above-average wines.\n",
    "\n",
    "Finally, we could possibly expand on our lists for top and bottom traits. One possibility is to split up the data into quartiles and perform an n-gram analysis on those quartiles to perhaps find more nuanced lists, and build top and bottom traits from a combination of the top two and bottom two quartiles, respectively.\n",
    "\n",
    "### Other algorithms?\n",
    "This project is ongoing. Some alternative algorithms (of potential higher accuracy) include random forests and decision trees. "
   ]
  }
 ],
 "metadata": {
  "kernelspec": {
   "display_name": "Python 3",
   "language": "python",
   "name": "python3"
  },
  "language_info": {
   "codemirror_mode": {
    "name": "ipython",
    "version": 3
   },
   "file_extension": ".py",
   "mimetype": "text/x-python",
   "name": "python",
   "nbconvert_exporter": "python",
   "pygments_lexer": "ipython3",
   "version": "3.7.4"
  }
 },
 "nbformat": 4,
 "nbformat_minor": 2
}
